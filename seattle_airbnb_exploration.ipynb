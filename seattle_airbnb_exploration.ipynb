{
 "cells": [
  {
   "cell_type": "markdown",
   "metadata": {},
   "source": [
    "# Seattle Airbnb Exploration\n",
    "The data explored in this notebook was obtained from the [Seattle Airbnb Open Data](https://www.kaggle.com/airbnb/seattle/data) Kaggle site. "
   ]
  },
  {
   "cell_type": "code",
   "execution_count": 23,
   "metadata": {},
   "outputs": [],
   "source": [
    "import json\n",
    "import os\n",
    "from zipfile import ZipFile\n",
    "\n",
    "import pandas as pd\n",
    "import numpy as np\n",
    "import matplotlib.pyplot as plt\n",
    "import seaborn as sns\n",
    "%matplotlib inline"
   ]
  },
  {
   "cell_type": "code",
   "execution_count": 21,
   "metadata": {},
   "outputs": [
    {
     "name": "stdout",
     "output_type": "stream",
     "text": [
      "Downloading seattle.zip to C:\\Users\\rebecca-barnes\\Git-Hub-Repos\\DSND-Project-4\n",
      "\n"
     ]
    },
    {
     "name": "stderr",
     "output_type": "stream",
     "text": [
      "\n",
      "  0%|          | 0.00/19.5M [00:00<?, ?B/s]\n",
      "  5%|5         | 1.00M/19.5M [00:01<00:21, 918kB/s]\n",
      " 10%|#         | 2.00M/19.5M [00:02<00:19, 921kB/s]\n",
      " 15%|#5        | 3.00M/19.5M [00:03<00:18, 927kB/s]\n",
      " 21%|##        | 4.00M/19.5M [00:04<00:17, 931kB/s]\n",
      " 26%|##5       | 5.00M/19.5M [00:05<00:16, 934kB/s]\n",
      " 31%|###       | 6.00M/19.5M [00:06<00:15, 936kB/s]\n",
      " 36%|###5      | 7.00M/19.5M [00:07<00:13, 938kB/s]\n",
      " 41%|####1     | 8.00M/19.5M [00:08<00:12, 939kB/s]\n",
      " 46%|####6     | 9.00M/19.5M [00:10<00:12, 910kB/s]\n",
      " 51%|#####1    | 10.0M/19.5M [00:11<00:10, 919kB/s]\n",
      " 57%|#####6    | 11.0M/19.5M [00:12<00:09, 925kB/s]\n",
      " 62%|######1   | 12.0M/19.5M [00:13<00:08, 930kB/s]\n",
      " 67%|######6   | 13.0M/19.5M [00:14<00:07, 933kB/s]\n",
      " 72%|#######1  | 14.0M/19.5M [00:15<00:06, 933kB/s]\n",
      " 77%|#######7  | 15.0M/19.5M [00:16<00:05, 935kB/s]\n",
      " 82%|########2 | 16.0M/19.5M [00:18<00:03, 937kB/s]\n",
      " 87%|########7 | 17.0M/19.5M [00:19<00:02, 939kB/s]\n",
      " 92%|#########2| 18.0M/19.5M [00:20<00:01, 910kB/s]\n",
      " 98%|#########7| 19.0M/19.5M [00:21<00:00, 919kB/s]\n",
      "100%|##########| 19.5M/19.5M [00:21<00:00, 935kB/s]\n"
     ]
    }
   ],
   "source": [
    "# Download data - requires saved Kaggle API key to run: https://github.com/Kaggle/kaggle-api\n",
    "!kaggle datasets download -d airbnb/seattle"
   ]
  },
  {
   "cell_type": "code",
   "execution_count": 24,
   "metadata": {},
   "outputs": [],
   "source": [
    "# Unzip files\n",
    "with ZipFile('seattle.zip', 'r') as zip_file:\n",
    "    zip_file.extractall()"
   ]
  }
 ],
 "metadata": {
  "kernelspec": {
   "display_name": "Python [conda env:dand]",
   "language": "python",
   "name": "conda-env-dand-py"
  },
  "language_info": {
   "codemirror_mode": {
    "name": "ipython",
    "version": 3
   },
   "file_extension": ".py",
   "mimetype": "text/x-python",
   "name": "python",
   "nbconvert_exporter": "python",
   "pygments_lexer": "ipython3",
   "version": "3.6.5"
  }
 },
 "nbformat": 4,
 "nbformat_minor": 2
}
